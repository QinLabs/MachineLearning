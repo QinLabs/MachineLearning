{
 "cells": [
  {
   "cell_type": "markdown",
   "id": "1fb8b2ce-51db-4f8e-9006-a2628dc1ac27",
   "metadata": {},
   "source": [
    "<font color=black size=5>Part 1 Import Libraries</font>"
   ]
  },
  {
   "cell_type": "code",
   "execution_count": 1,
   "id": "688372ab-f37a-4740-b224-94b4705ea5cc",
   "metadata": {},
   "outputs": [],
   "source": [
    "import torch                                  # Torch for Pytorch base (for deep learning)"
   ]
  },
  {
   "cell_type": "code",
   "execution_count": 2,
   "id": "b4f6a504-2614-47d9-9afc-48247186c8a9",
   "metadata": {},
   "outputs": [],
   "source": [
    "# Part 1\n",
    "import numpy as np                            # numpy for numerical computation\n",
    "import torchvision                            # TorchVision for image processing\n",
    "import matplotlib.pyplot as plt               # Plotting tools\n",
    "from time import time                         # Timing tools\n",
    "from torchvision import datasets, transforms  # Import dataset and transform functions\n",
    "from torch import nn, optim                   # Import neural network and optimization classes\n",
    "import cv2  "
   ]
  },
  {
   "cell_type": "markdown",
   "id": "8e5eb8a9-78c3-4e50-a293-b4a667afc0b3",
   "metadata": {},
   "source": [
    "<font color=black size=5>Part 2 Data Pre-processing Transform</font>"
   ]
  },
  {
   "cell_type": "code",
   "execution_count": 3,
   "id": "a5ad95b3-d7ed-4555-8569-4400887f5de1",
   "metadata": {},
   "outputs": [],
   "source": [
    "transform = transforms.Compose([transforms.ToTensor(),\n",
    "                              transforms.Normalize((0.5,), (0.5,)),\n",
    "                              ])\n",
    "# transform is a global class object that does the transform for you."
   ]
  },
  {
   "cell_type": "markdown",
   "id": "9dcd94e8-8b8a-4426-a530-706da788b3c7",
   "metadata": {},
   "source": [
    "<font color=black size=5>Part 3 Download Data</font>"
   ]
  },
  {
   "cell_type": "code",
   "execution_count": 4,
   "id": "ab3529e6-e759-46ae-88de-925b8bc079fa",
   "metadata": {},
   "outputs": [
    {
     "name": "stdout",
     "output_type": "stream",
     "text": [
      "Downloading http://yann.lecun.com/exdb/mnist/train-images-idx3-ubyte.gz\n",
      "Downloading http://yann.lecun.com/exdb/mnist/train-images-idx3-ubyte.gz to ./MNIST/MNIST/raw/train-images-idx3-ubyte.gz\n"
     ]
    },
    {
     "data": {
      "application/vnd.jupyter.widget-view+json": {
       "model_id": "c85282ec6b9345d4b46f9d0d55f54bef",
       "version_major": 2,
       "version_minor": 0
      },
      "text/plain": [
       "  0%|          | 0/9912422 [00:00<?, ?it/s]"
      ]
     },
     "metadata": {},
     "output_type": "display_data"
    },
    {
     "name": "stdout",
     "output_type": "stream",
     "text": [
      "Extracting ./MNIST/MNIST/raw/train-images-idx3-ubyte.gz to ./MNIST/MNIST/raw\n",
      "\n",
      "Downloading http://yann.lecun.com/exdb/mnist/train-labels-idx1-ubyte.gz\n",
      "Downloading http://yann.lecun.com/exdb/mnist/train-labels-idx1-ubyte.gz to ./MNIST/MNIST/raw/train-labels-idx1-ubyte.gz\n"
     ]
    },
    {
     "data": {
      "application/vnd.jupyter.widget-view+json": {
       "model_id": "e9ebc51b701a4f909fea32cd9a0fbb57",
       "version_major": 2,
       "version_minor": 0
      },
      "text/plain": [
       "  0%|          | 0/28881 [00:00<?, ?it/s]"
      ]
     },
     "metadata": {},
     "output_type": "display_data"
    },
    {
     "name": "stdout",
     "output_type": "stream",
     "text": [
      "Extracting ./MNIST/MNIST/raw/train-labels-idx1-ubyte.gz to ./MNIST/MNIST/raw\n",
      "\n",
      "Downloading http://yann.lecun.com/exdb/mnist/t10k-images-idx3-ubyte.gz\n",
      "Downloading http://yann.lecun.com/exdb/mnist/t10k-images-idx3-ubyte.gz to ./MNIST/MNIST/raw/t10k-images-idx3-ubyte.gz\n"
     ]
    },
    {
     "data": {
      "application/vnd.jupyter.widget-view+json": {
       "model_id": "f6434d88584440cf8ee702f8eaa99000",
       "version_major": 2,
       "version_minor": 0
      },
      "text/plain": [
       "  0%|          | 0/1648877 [00:00<?, ?it/s]"
      ]
     },
     "metadata": {},
     "output_type": "display_data"
    },
    {
     "name": "stdout",
     "output_type": "stream",
     "text": [
      "Extracting ./MNIST/MNIST/raw/t10k-images-idx3-ubyte.gz to ./MNIST/MNIST/raw\n",
      "\n",
      "Downloading http://yann.lecun.com/exdb/mnist/t10k-labels-idx1-ubyte.gz\n",
      "Downloading http://yann.lecun.com/exdb/mnist/t10k-labels-idx1-ubyte.gz to ./MNIST/MNIST/raw/t10k-labels-idx1-ubyte.gz\n"
     ]
    },
    {
     "data": {
      "application/vnd.jupyter.widget-view+json": {
       "model_id": "1da039ab140942c9bfe5fada9b802930",
       "version_major": 2,
       "version_minor": 0
      },
      "text/plain": [
       "  0%|          | 0/4542 [00:00<?, ?it/s]"
      ]
     },
     "metadata": {},
     "output_type": "display_data"
    },
    {
     "name": "stdout",
     "output_type": "stream",
     "text": [
      "Extracting ./MNIST/MNIST/raw/t10k-labels-idx1-ubyte.gz to ./MNIST/MNIST/raw\n",
      "\n"
     ]
    }
   ],
   "source": [
    "# Download the training data and the validation data\n",
    "trainset    = datasets.MNIST('./MNIST/', download=True, train=True, transform=transform)\n",
    "valset      = datasets.MNIST('./MNIST/', download=True, train=False, transform=transform)\n",
    "\n",
    "# Define the loader that loads images into the correct format\n",
    "trainloader = torch.utils.data.DataLoader(trainset, batch_size=64, shuffle=True)\n",
    "valloader   = torch.utils.data.DataLoader(valset, batch_size=64, shuffle=True)\n",
    "\n",
    "# Create iteration objection, images, and labels\n",
    "dataiter = iter(trainloader)\n",
    "images, labels = dataiter.next()"
   ]
  },
  {
   "cell_type": "markdown",
   "id": "cb0e2f70-9eac-47f6-8fae-e6c1de9e62a7",
   "metadata": {},
   "source": [
    "<font color=black size=5>Part 4 Construct Your Model</font>"
   ]
  },
  {
   "cell_type": "code",
   "execution_count": 5,
   "id": "af1c7601-cce8-4722-9d41-f255b4c9a985",
   "metadata": {},
   "outputs": [],
   "source": [
    "# Here we construct the neural network. There is no training involved yet. We are only defining the model.\n",
    "input_size = 784\n",
    "hidden_sizes = [128, 64, 32]\n",
    "output_size = 10\n",
    "\n",
    "model = nn.Sequential(nn.Linear(input_size, hidden_sizes[0]),\n",
    "                      nn.ReLU(),\n",
    "                      nn.Linear(hidden_sizes[0], hidden_sizes[1]),\n",
    "                      nn.ReLU(),\n",
    "                      nn.Linear(hidden_sizes[1], hidden_sizes[2]),\n",
    "                      nn.ReLU(),\n",
    "                      nn.Linear(hidden_sizes[2], output_size),\n",
    "                      nn.LogSoftmax(dim=1))"
   ]
  },
  {
   "cell_type": "markdown",
   "id": "2f797031-3fea-4fda-9f55-a84d2cc033d7",
   "metadata": {},
   "source": [
    "<font color=black size=5>Part 5 Construct the training loss</font>"
   ]
  },
  {
   "cell_type": "code",
   "execution_count": 6,
   "id": "8d8980fb-1c37-4825-93b5-d71767fc734a",
   "metadata": {},
   "outputs": [],
   "source": [
    "criterion = nn.NLLLoss()\n",
    "images, labels = next(iter(trainloader))\n",
    "images = images.view(images.shape[0], -1)\n",
    "\n",
    "logps = model(images)                 #log probabilities\n",
    "loss = criterion(logps, labels)       #calculate the NLL loss"
   ]
  },
  {
   "cell_type": "markdown",
   "id": "435c73a5-80b0-4634-b505-6c0845b9f7af",
   "metadata": {},
   "source": [
    "<font color=black size=5>Part 6 Main Training Loop</font>"
   ]
  },
  {
   "cell_type": "code",
   "execution_count": 7,
   "id": "9b14a00a-2b18-4ac7-a581-edf8f2092347",
   "metadata": {},
   "outputs": [
    {
     "name": "stdout",
     "output_type": "stream",
     "text": [
      "Epoch 0 - Training loss: 0.8874483321711961\n",
      "Epoch 1 - Training loss: 0.30277637838681876\n",
      "\n",
      "Training Time (in minutes) = 4.545971580346426\n"
     ]
    }
   ],
   "source": [
    "optimizer = optim.SGD(model.parameters(), lr=0.003, momentum=0.9)\n",
    "time0 = time()\n",
    "epochs = 2\n",
    "for e in range(epochs):\n",
    "    running_loss = 0\n",
    "    for images, labels in trainloader:\n",
    "        # Flatten MNIST images into a 784 long vector\n",
    "        images = images.view(images.shape[0], -1)\n",
    "    \n",
    "        # Training pass\n",
    "        optimizer.zero_grad()\n",
    "        \n",
    "        output = model(images)\n",
    "        loss = criterion(output, labels)\n",
    "        \n",
    "        #This is where the model learns by backpropagating\n",
    "        loss.backward()\n",
    "        \n",
    "        #And optimizes its weights here\n",
    "        optimizer.step()\n",
    "        \n",
    "        running_loss += loss.item()\n",
    "    else:\n",
    "        print(\"Epoch {} - Training loss: {}\".format(e, running_loss/len(trainloader)))\n",
    "print(\"\\nTraining Time (in minutes) =\",(time()-time0)/60)"
   ]
  },
  {
   "cell_type": "markdown",
   "id": "602fe73b-7115-41a8-bd90-2811afece1d3",
   "metadata": {},
   "source": [
    "<font color=black size=5>Part 7 Testing</font>"
   ]
  },
  {
   "cell_type": "code",
   "execution_count": 8,
   "id": "2a4f4a40-a563-4450-9a7c-e3e53bcb791b",
   "metadata": {},
   "outputs": [
    {
     "name": "stdout",
     "output_type": "stream",
     "text": [
      "Predicted Digit = 2\n"
     ]
    },
    {
     "data": {
      "image/png": "[encoded data removed]",
      "text/plain": [
       "<Figure size 432x288 with 1 Axes>"
      ]
     },
     "metadata": {
      "needs_background": "light"
     },
     "output_type": "display_data"
    }
   ],
   "source": [
    "images, labels = next(iter(valloader))\n",
    "img = images[0].view(1, 784)\n",
    "with torch.no_grad():\n",
    "    logps = model(img)\n",
    "ps = torch.exp(logps)\n",
    "probab = list(ps.numpy()[0])\n",
    "print(\"Predicted Digit =\", probab.index(max(probab)))\n",
    "plt.imshow(images[0].numpy().squeeze(), cmap='gray_r');"
   ]
  },
  {
   "cell_type": "markdown",
   "id": "ef594d0d-c6c1-48cf-b533-129c3a64b792",
   "metadata": {},
   "source": [
    "<font color=black size=5>Part 8 Testing</font>"
   ]
  },
  {
   "cell_type": "code",
   "execution_count": 14,
   "id": "63bf20ab-b65e-4d8f-a106-1980790c2047",
   "metadata": {},
   "outputs": [],
   "source": [
    "# # Using cv2.imread() method \n",
    "# # Using 0 to read image in grayscale mode \n",
    "# img = cv2.imread('digit_2.png', 0)  # You will need to change the filename\n",
    "# # resize image to 28x28\n",
    "# img = cv2.resize(img, (28,28),interpolation=cv2.INTER_LANCZOS4)\n",
    "\n",
    "# # flip the image color\n",
    "# # this is optional; and feel free to change it\n",
    "# for i in range(0,img.shape[0]):\n",
    "#   for j in range(0,img.shape[1]):\n",
    "#     if img[i,j]>125:\n",
    "#       img[i,j] = 0\n",
    "#     else:\n",
    "#       img[i,j] = 255 - img[i,j]\n",
    "\n",
    "# # plot the processed image\n",
    "# plt.imshow(img, cmap='gray_r')\n",
    "\n",
    "# # input the processed image to the network and make prediction\n",
    "# img = transform(img).view(1, 784)\n",
    "# with torch.no_grad():\n",
    "#     logps = model(img)\n",
    "# ps = torch.exp(logps)\n",
    "# probab = list(ps.numpy()[0])\n",
    "# print(\"Predicted Hand-written Digit =\", probab.index(max(probab)))"
   ]
  },
  {
   "cell_type": "code",
   "execution_count": null,
   "id": "2cc009be-f383-4f12-8a36-16081e119149",
   "metadata": {},
   "outputs": [],
   "source": []
  },
  {
   "cell_type": "code",
   "execution_count": null,
   "id": "649f9f45-0c9b-4340-8eea-c2f4f863d393",
   "metadata": {},
   "outputs": [],
   "source": []
  },
  {
   "cell_type": "code",
   "execution_count": null,
   "id": "8439e2d1-b362-4ba7-8137-b7337f7a9dc3",
   "metadata": {},
   "outputs": [],
   "source": []
  },
  {
   "cell_type": "code",
   "execution_count": null,
   "id": "59f4518c-f5eb-45ec-ad12-d9b25cc780cb",
   "metadata": {},
   "outputs": [],
   "source": []
  },
  {
   "cell_type": "code",
   "execution_count": null,
   "id": "e5b4dcbf-bcb7-4d93-a267-ce706f53db13",
   "metadata": {},
   "outputs": [],
   "source": []
  }
 ],
 "metadata": {
  "kernelspec": {
   "display_name": "Python 3 (ipykernel)",
   "language": "python",
   "name": "python3"
  },
  "language_info": {
   "codemirror_mode": {
    "name": "ipython",
    "version": 3
   },
   "file_extension": ".py",
   "mimetype": "text/x-python",
   "name": "python",
   "nbconvert_exporter": "python",
   "pygments_lexer": "ipython3",
   "version": "3.9.12"
  }
 },
 "nbformat": 4,
 "nbformat_minor": 5
}
